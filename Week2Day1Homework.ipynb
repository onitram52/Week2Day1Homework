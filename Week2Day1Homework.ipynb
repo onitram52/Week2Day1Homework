{
 "cells": [
  {
   "cell_type": "markdown",
   "metadata": {},
   "source": [
    "## Exercise #1 <br>\n",
    "<p>Accept two user ages as inputs and give us the difference between them. (The Answer should always be a positive output(</p>"
   ]
  },
  {
   "cell_type": "code",
   "execution_count": 141,
   "metadata": {},
   "outputs": [
    {
     "name": "stdout",
     "output_type": "stream",
     "text": [
      "How old are you? 10\n",
      "How old are you? 15\n",
      "The age difference between the two users is 5 years\n"
     ]
    }
   ],
   "source": [
    "age1 = input(\"How old are you? \")\n",
    "age2 = input(\"How old are you? \")\n",
    "\n",
    "age1= int(age1)\n",
    "age2= int(age2)\n",
    "\n",
    "difference = abs(age1 - age2)\n",
    "\n",
    "print(\"The age difference between the two users is\", difference, \"years\")"
   ]
  },
  {
   "cell_type": "markdown",
   "metadata": {},
   "source": [
    "## Exercise #2 <br>\n",
    "<p>Accept 3 user inputs for variables named noun, verb and adjective. Print out a formatted string using the outputs.</p>"
   ]
  },
  {
   "cell_type": "code",
   "execution_count": 142,
   "metadata": {},
   "outputs": [
    {
     "name": "stdout",
     "output_type": "stream",
     "text": [
      "what is it? Sonic\n",
      "What is it doing? running\n",
      "In what way? Fast\n",
      "Sonic is running really Fast!\n"
     ]
    }
   ],
   "source": [
    "noun = input(\"what is it? \")\n",
    "verb = input(\"What is it doing? \")\n",
    "adjective = input(\"In what way? \")\n",
    "\n",
    "result_string = \"{} is {} really {}!\".format(noun, verb, adjective)\n",
    "\n",
    "print(result_string)"
   ]
  },
  {
   "cell_type": "markdown",
   "metadata": {},
   "source": [
    "## Exercise #3 <br>\n",
    "<p>Take in a users input for their age, if they are younger than 18 print kids, if they're 18 to 65 print adults, else print seniors</p>"
   ]
  },
  {
   "cell_type": "code",
   "execution_count": 149,
   "metadata": {},
   "outputs": [
    {
     "name": "stdout",
     "output_type": "stream",
     "text": [
      "How old are you? 65\n",
      "seniors\n"
     ]
    }
   ],
   "source": [
    "age = input(\"How old are you? \")\n",
    "if age < str(18):\n",
    "    print(\"kids\")\n",
    "elif age >= str(18) and age < str(65):\n",
    "    print(\"adults\")\n",
    "else:\n",
    "    print(\"seniors\")"
   ]
  },
  {
   "cell_type": "markdown",
   "metadata": {},
   "source": [
    "## Exercise #4\n",
    "<p>Take in a number from a user input. Square and Cube that number</p>"
   ]
  },
  {
   "cell_type": "code",
   "execution_count": 155,
   "metadata": {},
   "outputs": [
    {
     "name": "stdout",
     "output_type": "stream",
     "text": [
      "Give me a number. 5.5\n",
      "30.25\n",
      "166.375\n"
     ]
    }
   ],
   "source": [
    "number = input(\"Give me a number. \")\n",
    "number = float(number)\n",
    "squared = number ** 2\n",
    "cubed = number ** 3\n",
    "print(squared)\n",
    "print(cubed)"
   ]
  }
 ],
 "metadata": {
  "kernelspec": {
   "display_name": "Python 3 (ipykernel)",
   "language": "python",
   "name": "python3"
  },
  "language_info": {
   "codemirror_mode": {
    "name": "ipython",
    "version": 3
   },
   "file_extension": ".py",
   "mimetype": "text/x-python",
   "name": "python",
   "nbconvert_exporter": "python",
   "pygments_lexer": "ipython3",
   "version": "3.9.13"
  }
 },
 "nbformat": 4,
 "nbformat_minor": 2
}
